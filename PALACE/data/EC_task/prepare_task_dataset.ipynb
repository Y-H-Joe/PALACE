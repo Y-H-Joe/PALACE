{
 "cells": [
  {
   "cell_type": "markdown",
   "id": "2287d9df-a1b8-4fc7-8373-01ab1721225d",
   "metadata": {},
   "source": [
    "# Construct Datasets for benchmarking tasks\n",
    "\n",
    "> author: Shizhenkun   \n",
    "> email: zhenkun.shi@tib.cas.cn   \n",
    "> date: 2021-10-08  \n",
    "\n",
    "## Dataset1. Enzyme None-enzyme Dataset\n",
    "The enzyme dataset is consists of two parts: a training set and a testing set. The training set is from snapshot Feb-2018 and excludes those deleted items in snapshot Jun-2020. The training set is consists of 467,973 records, of which 222,290 are enzymes, and 245,683 are not enzymes. The testing set is from snapshot Jun-2020 and excludes these items that appeared in snapshot Feb-2018. The testing set is consists of 8033 records, of which 3579 are enzymes, and 4454 are not-enzymes. Unlike previous works,  we did not filter any sequences in terms of length and homology to make the data more inclusive. We make a label for each sequence, 1 for enzyme and 0 for not-enzyme. \n",
    "\n",
    "## Dataset2. Enzyme Quantity Dataset\n",
    "The enzyme quantity dataset only contains enzyme data, contain 13,108 records. The function quantity ranges from 2 to 10.\n",
    "\n",
    "## Dataset 3: EC number Dataset\n",
    "\n",
    "Similar to the enzyme quantity dataset, the EC number dataset is consists of 225,221 enzyme records, 221,642 are training-set, and the rest 3579 are testing-set, covering 4852 EC numbers. Up to Feb 2020, there still exist 267 EC numbers that the model can not handle in the benchmarking. Thus, we exclude the sequences with these 267 EC numbers in the evaluation process. But, this problem can be resolved in the production scenario because we use the entire data from Swiss-Prot. Now the EC coverage is 5307 and can be automatically extended, for the training is real-time based on the publication of Swiss-Prot every 8 weeks. "
   ]
  },
  {
   "cell_type": "markdown",
   "id": "6c6db9dd-5c89-423e-8131-b2e5b4c01618",
   "metadata": {},
   "source": [
    "## 1. Import packages"
   ]
  },
  {
   "cell_type": "code",
   "execution_count": 15,
   "id": "8fd276ba-aec4-4edf-a2d1-682a15233476",
   "metadata": {
    "tags": []
   },
   "outputs": [
    {
     "name": "stdout",
     "output_type": "stream",
     "text": [
      "INFO: Pandarallel will run on 80 workers.\n",
      "INFO: Pandarallel will use Memory file system to transfer data between the main process and workers.\n",
      "The autoreload extension is already loaded. To reload it, use:\n",
      "  %reload_ext autoreload\n"
     ]
    }
   ],
   "source": [
    "import numpy as np\n",
    "import pandas as pd\n",
    "\n",
    "import os\n",
    "import re\n",
    "import time\n",
    "import datetime\n",
    "import sys\n",
    "from tqdm import tqdm\n",
    "import config as cfg\n",
    "from functools import reduce\n",
    "import matplotlib.pyplot as plt\n",
    "\n",
    "sys.path.append(\"./tools/\")\n",
    "import funclib\n",
    "import exact_ec_from_uniprot as exactec\n",
    "import minitools as mtool\n",
    "import embedding_esm as esmebd\n",
    "import embedding_unirep as unirep\n",
    "\n",
    "from pandarallel import pandarallel # 导入pandaralle\n",
    "pandarallel.initialize() # 初始化该这个b...并行库\n",
    "\n",
    "\n",
    "%load_ext autoreload\n",
    "%autoreload 2"
   ]
  },
  {
   "cell_type": "markdown",
   "id": "50dbdc9d-92cc-4281-be25-95e37097f43f",
   "metadata": {},
   "source": [
    "## 2. Define Functions"
   ]
  },
  {
   "cell_type": "code",
   "execution_count": 2,
   "id": "0da378c0-edf0-45b0-8aaa-e909dae794f2",
   "metadata": {
    "tags": []
   },
   "outputs": [],
   "source": [
    "# install axel for download dataset\n",
    "def install_axel():\n",
    "    isExists = !which axel\n",
    "    if 'axel' in str(isExists[0]):\n",
    "        return True\n",
    "    else:\n",
    "        !sudo apt install axel\n",
    "\n",
    "# add missing '-' for ec number\n",
    "def refill_ec(ec):   \n",
    "    if ec == '-':\n",
    "        return ec\n",
    "    levelArray = ec.split('.')\n",
    "    if  levelArray[3]=='':\n",
    "        levelArray[3] ='-'\n",
    "    ec = '.'.join(levelArray)\n",
    "    return ec\n",
    "\n",
    "def specific_ecs(ecstr):\n",
    "    if '-' not in ecstr or len(ecstr)<4:\n",
    "        return ecstr\n",
    "    ecs = ecstr.split(',')\n",
    "    if len(ecs)==1:\n",
    "        return ecstr\n",
    "    \n",
    "    reslist=[]\n",
    "    \n",
    "    for ec in ecs:\n",
    "        recs = ecs.copy()\n",
    "        recs.remove(ec)\n",
    "        ecarray = np.array([x.split('.') for x in recs])\n",
    "        \n",
    "        if '-' not in ec:\n",
    "            reslist +=[ec]\n",
    "            continue\n",
    "        linearray= ec.split('.')\n",
    "        if linearray[1] == '-':\n",
    "            #l1 in l1s and l2 not empty\n",
    "            if (linearray[0] in  ecarray[:,0]) and (len(set(ecarray[:,0]) - set({'-'}))>0):\n",
    "                continue\n",
    "        if linearray[2] == '-':\n",
    "            # l1, l2 in l1s l2s, l3 not empty\n",
    "            if (linearray[0] in  ecarray[:,0]) and (linearray[1] in  ecarray[:,1]) and (len(set(ecarray[:,2]) - set({'-'}))>0):\n",
    "                continue\n",
    "        if linearray[3] == '-':\n",
    "            # l1, l2, l3 in l1s l2s l3s, l4 not empty\n",
    "            if (linearray[0] in  ecarray[:,0]) and (linearray[1] in  ecarray[:,1]) and (linearray[2] in  ecarray[:,2]) and (len(set(ecarray[:,3]) - set({'-'}))>0):\n",
    "                continue\n",
    "                \n",
    "        reslist +=[ec]\n",
    "    return ','.join(reslist)\n",
    "\n",
    "#format ec\n",
    "def format_ec(ecstr):\n",
    "    ecArray= ecstr.split(',')\n",
    "    ecArray=[x.strip() for x in ecArray] #strip blank\n",
    "    ecArray=[refill_ec(x) for x in ecArray] #format ec to full\n",
    "    ecArray = list(set(ecArray)) # remove duplicates\n",
    "    \n",
    "    return ','.join(ecArray)"
   ]
  },
  {
   "cell_type": "markdown",
   "id": "901557a4-c496-4608-84e2-3306f6a322e3",
   "metadata": {},
   "source": [
    "## 3. Download rawdata from unisprot"
   ]
  },
  {
   "cell_type": "code",
   "execution_count": 4,
   "id": "243413dd-4ce6-40ea-a441-34b313aab6dc",
   "metadata": {
    "tags": []
   },
   "outputs": [
    {
     "name": "stdout",
     "output_type": "stream",
     "text": [
      "No state file, cannot resume!\n",
      "No state file, cannot resume!\n"
     ]
    }
   ],
   "source": [
    "# download location ./tmp\n",
    "install_axel()\n",
    "!axel -n 10 https://ftp.uniprot.org/pub/databases/uniprot/previous_major_releases/release-2018_02/knowledgebase/uniprot_sprot-only2018_02.tar.gz -o ./tmp/uniprot_sprot-only2018_02.tar.gz -q -c\n",
    "!axel -n 10 https://ftp.uniprot.org/pub/databases/uniprot/previous_major_releases/release-2020_06/knowledgebase/uniprot_sprot-only2020_06.tar.gz -o ./tmp/uniprot_sprot-only2020_06.tar.gz -q -c"
   ]
  },
  {
   "cell_type": "code",
   "execution_count": null,
   "id": "7e71662e-10ea-43ec-8839-82d107dca32c",
   "metadata": {},
   "outputs": [],
   "source": [
    "!axel -n 10 https://ftp.uniprot.org/pub/databases/uniprot/current_release/knowledgebase/complete/uniprot_trembl.dat.gz -o ./tmp/uniprot_trembl_latest.dat.gz -q -c"
   ]
  },
  {
   "cell_type": "markdown",
   "id": "c10cb9c0-94bc-4525-9795-1b818a977c69",
   "metadata": {},
   "source": [
    "## 4. Extract records from rawdata"
   ]
  },
  {
   "cell_type": "code",
   "execution_count": 3,
   "id": "eb6f3dd8-577a-4a13-b3dd-2d3c860c46ad",
   "metadata": {
    "tags": []
   },
   "outputs": [
    {
     "name": "stdout",
     "output_type": "stream",
     "text": [
      "uniprot_sprot.dat.gz\n",
      "uniprot_sprot.fasta.gz\n",
      "uniprot_sprot_varsplic.fasta.gz\n",
      "uniprot_sprot.xml.gz\n",
      "uniprot_sprot.dat.gz\n",
      "uniprot_sprot.fasta.gz\n",
      "uniprot_sprot_varsplic.fasta.gz\n",
      "uniprot_sprot.xml.gz\n"
     ]
    }
   ],
   "source": [
    "# 2018 data\n",
    "! tar -zxvf ./tmp/uniprot_sprot-only2018_02.tar.gz -C ./tmp/\n",
    "! mv ./tmp/uniprot_sprot.dat.gz ./tmp/sprot2018.data.gz\n",
    "! rm -rf ./tmp/*.fasta.gz ./tmp/*.xml.gz\n",
    "\n",
    "# 2020 data\n",
    "! tar -zxvf ./tmp/uniprot_sprot-only2020_06.tar.gz -C ./tmp/\n",
    "! mv ./tmp/uniprot_sprot.dat.gz ./tmp/sprot2020.data.gz\n",
    "! rm -rf ./tmp/*.fasta.gz ./tmp/*.xml.gz"
   ]
  },
  {
   "cell_type": "code",
   "execution_count": 27,
   "id": "616bc8ba-6902-4b66-884a-fce91b6041bb",
   "metadata": {
    "tags": []
   },
   "outputs": [
    {
     "name": "stderr",
     "output_type": "stream",
     "text": [
      "556825it [03:41, 2516.40it/s]"
     ]
    },
    {
     "name": "stdout",
     "output_type": "stream",
     "text": [
      "finished use time 221.339 s\n"
     ]
    },
    {
     "name": "stderr",
     "output_type": "stream",
     "text": [
      "\n"
     ]
    }
   ],
   "source": [
    "sexactec.run_exact_task(infile=cfg.TEMPDIR+'sprot2018.data.gz', outfile=cfg.DATADIR+'sprot2018.tsv')\n",
    "exactec.run_exact_task(infile=cfg.TEMPDIR+'sprot2020.data.gz', outfile=cfg.DATADIR+'sprot2020.tsv')"
   ]
  },
  {
   "cell_type": "markdown",
   "id": "b3339787-1f45-426c-8163-e2015a746088",
   "metadata": {},
   "source": [
    "## 5. Load records"
   ]
  },
  {
   "cell_type": "code",
   "execution_count": 3,
   "id": "06b09799-fb74-4967-b764-10e6e6de375c",
   "metadata": {
    "tags": []
   },
   "outputs": [],
   "source": [
    "#加载数据并转换时间格式\n",
    "sprot2018 = pd.read_csv(cfg.DATADIR+'sprot2018.tsv', sep='\\t',header=0) #读入文件\n",
    "sprot2018 = mtool.convert_DF_dateTime(inputdf = sprot2018)\n",
    "\n",
    "\n",
    "sprot2020 = pd.read_csv(cfg.DATADIR+'sprot2020.tsv', sep='\\t',header=0) #读入文件\n",
    "sprot2020 = mtool.convert_DF_dateTime(inputdf = sprot2020)\n"
   ]
  },
  {
   "cell_type": "markdown",
   "id": "4b0f9da8-aad5-40aa-bb31-3fef682bd971",
   "metadata": {},
   "source": [
    "## 6. Preprocessing\n",
    "### 6.1 Drop Duplicates"
   ]
  },
  {
   "cell_type": "code",
   "execution_count": 6,
   "id": "60c0be33-eb18-486e-993c-24e3a54484cd",
   "metadata": {},
   "outputs": [],
   "source": [
    "sprot2018.drop_duplicates(subset=['seq'], keep='first', inplace=True)\n",
    "sprot2018.reset_index(drop=True, inplace=True)\n",
    "sprot2020.drop_duplicates(subset=['seq'], keep='first', inplace=True)\n",
    "sprot2020.reset_index(drop=True, inplace=True)"
   ]
  },
  {
   "cell_type": "markdown",
   "id": "2f5d3639-7149-4ca1-b837-239554a21733",
   "metadata": {},
   "source": [
    "### 6.2 format EC"
   ]
  },
  {
   "cell_type": "code",
   "execution_count": 13,
   "id": "1f90d9b3-f19d-4767-8d78-d54605b49971",
   "metadata": {},
   "outputs": [],
   "source": [
    "#sprot2018\n",
    "sprot2018['ec_number'] = sprot2018.ec_number.parallel_apply(lambda x: format_ec(x))\n",
    "sprot2018['ec_number'] = sprot2018.ec_number.parallel_apply(lambda x: specific_ecs(x))\n",
    "sprot2018['functionCounts'] = sprot2018.ec_number.parallel_apply(lambda x: 0 if x=='-'  else len(x.split(',')))\n",
    "\n",
    "#sprot2020\n",
    "sprot2020['ec_number'] = sprot2020.ec_number.parallel_apply(lambda x: format_ec(x))\n",
    "sprot2020['ec_number'] = sprot2020.ec_number.parallel_apply(lambda x: specific_ecs(x))\n",
    "sprot2020['functionCounts'] = sprot2020.ec_number.parallel_apply(lambda x: 0 if x=='-'  else len(x.split(',')))"
   ]
  },
  {
   "cell_type": "code",
   "execution_count": 16,
   "id": "17d217ff-4bcc-4f0b-b5d2-b0ab5d689e4b",
   "metadata": {},
   "outputs": [
    {
     "name": "stderr",
     "output_type": "stream",
     "text": [
      "100%|██████████████████████████████████████████████████████████████████████████████████████████████| 469134/469134 [29:44<00:00, 262.83it/s]\n"
     ]
    },
    {
     "ename": "ValueError",
     "evalue": "12 columns passed, passed data had 3 columns",
     "output_type": "error",
     "traceback": [
      "\u001b[0;31m---------------------------------------------------------------------------\u001b[0m",
      "\u001b[0;31mAssertionError\u001b[0m                            Traceback (most recent call last)",
      "\u001b[0;32m~/anaconda3/envs/py38/lib/python3.7/site-packages/pandas/core/internals/construction.py\u001b[0m in \u001b[0;36m_list_to_arrays\u001b[0;34m(data, columns, coerce_float, dtype)\u001b[0m\n\u001b[1;32m    567\u001b[0m     \u001b[0;32mtry\u001b[0m\u001b[0;34m:\u001b[0m\u001b[0;34m\u001b[0m\u001b[0;34m\u001b[0m\u001b[0m\n\u001b[0;32m--> 568\u001b[0;31m         \u001b[0mcolumns\u001b[0m \u001b[0;34m=\u001b[0m \u001b[0m_validate_or_indexify_columns\u001b[0m\u001b[0;34m(\u001b[0m\u001b[0mcontent\u001b[0m\u001b[0;34m,\u001b[0m \u001b[0mcolumns\u001b[0m\u001b[0;34m)\u001b[0m\u001b[0;34m\u001b[0m\u001b[0;34m\u001b[0m\u001b[0m\n\u001b[0m\u001b[1;32m    569\u001b[0m         \u001b[0mresult\u001b[0m \u001b[0;34m=\u001b[0m \u001b[0m_convert_object_array\u001b[0m\u001b[0;34m(\u001b[0m\u001b[0mcontent\u001b[0m\u001b[0;34m,\u001b[0m \u001b[0mdtype\u001b[0m\u001b[0;34m=\u001b[0m\u001b[0mdtype\u001b[0m\u001b[0;34m,\u001b[0m \u001b[0mcoerce_float\u001b[0m\u001b[0;34m=\u001b[0m\u001b[0mcoerce_float\u001b[0m\u001b[0;34m)\u001b[0m\u001b[0;34m\u001b[0m\u001b[0;34m\u001b[0m\u001b[0m\n",
      "\u001b[0;32m~/anaconda3/envs/py38/lib/python3.7/site-packages/pandas/core/internals/construction.py\u001b[0m in \u001b[0;36m_validate_or_indexify_columns\u001b[0;34m(content, columns)\u001b[0m\n\u001b[1;32m    692\u001b[0m             raise AssertionError(\n\u001b[0;32m--> 693\u001b[0;31m                 \u001b[0;34mf\"{len(columns)} columns passed, passed data had \"\u001b[0m\u001b[0;34m\u001b[0m\u001b[0;34m\u001b[0m\u001b[0m\n\u001b[0m\u001b[1;32m    694\u001b[0m                 \u001b[0;34mf\"{len(content)} columns\"\u001b[0m\u001b[0;34m\u001b[0m\u001b[0;34m\u001b[0m\u001b[0m\n",
      "\u001b[0;31mAssertionError\u001b[0m: 12 columns passed, passed data had 3 columns",
      "\nThe above exception was the direct cause of the following exception:\n",
      "\u001b[0;31mValueError\u001b[0m                                Traceback (most recent call last)",
      "\u001b[0;32m/tmp/ipykernel_285437/2522147681.py\u001b[0m in \u001b[0;36m<module>\u001b[0;34m\u001b[0m\n\u001b[0;32m----> 1\u001b[0;31m \u001b[0ms18\u001b[0m\u001b[0;34m=\u001b[0m\u001b[0mfunclib\u001b[0m\u001b[0;34m.\u001b[0m\u001b[0msplit_ecdf_to_single_lines\u001b[0m\u001b[0;34m(\u001b[0m\u001b[0msprot2018\u001b[0m\u001b[0;34m)\u001b[0m\u001b[0;34m\u001b[0m\u001b[0;34m\u001b[0m\u001b[0m\n\u001b[0m\u001b[1;32m      2\u001b[0m \u001b[0ms20\u001b[0m\u001b[0;34m=\u001b[0m\u001b[0mfunclib\u001b[0m\u001b[0;34m.\u001b[0m\u001b[0msplit_ecdf_to_single_lines\u001b[0m\u001b[0;34m(\u001b[0m\u001b[0msprot2020\u001b[0m\u001b[0;34m)\u001b[0m\u001b[0;34m\u001b[0m\u001b[0;34m\u001b[0m\u001b[0m\n",
      "\u001b[0;32m~/codebase/DMLF/tools/funclib.py\u001b[0m in \u001b[0;36msplit_ecdf_to_single_lines\u001b[0;34m(full_table)\u001b[0m\n\u001b[1;32m    415\u001b[0m         \u001b[0;32mfor\u001b[0m \u001b[0mj\u001b[0m \u001b[0;32min\u001b[0m \u001b[0mres\u001b[0m\u001b[0;34m:\u001b[0m\u001b[0;34m\u001b[0m\u001b[0;34m\u001b[0m\u001b[0m\n\u001b[1;32m    416\u001b[0m             \u001b[0mtemp_li\u001b[0m \u001b[0;34m=\u001b[0m \u001b[0mtemp_li\u001b[0m \u001b[0;34m+\u001b[0m \u001b[0;34m[\u001b[0m\u001b[0mj\u001b[0m\u001b[0;34m]\u001b[0m\u001b[0;34m\u001b[0m\u001b[0;34m\u001b[0m\u001b[0m\n\u001b[0;32m--> 417\u001b[0;31m     \u001b[0mresDf\u001b[0m \u001b[0;34m=\u001b[0m \u001b[0mpd\u001b[0m\u001b[0;34m.\u001b[0m\u001b[0mDataFrame\u001b[0m\u001b[0;34m(\u001b[0m\u001b[0mtemp_li\u001b[0m\u001b[0;34m,\u001b[0m\u001b[0mcolumns\u001b[0m\u001b[0;34m=\u001b[0m\u001b[0mfull_table\u001b[0m\u001b[0;34m.\u001b[0m\u001b[0mcolumns\u001b[0m\u001b[0;34m.\u001b[0m\u001b[0mvalues\u001b[0m\u001b[0;34m)\u001b[0m\u001b[0;34m\u001b[0m\u001b[0;34m\u001b[0m\u001b[0m\n\u001b[0m\u001b[1;32m    418\u001b[0m \u001b[0;34m\u001b[0m\u001b[0m\n\u001b[1;32m    419\u001b[0m     \u001b[0;32mreturn\u001b[0m \u001b[0mresDf\u001b[0m\u001b[0;34m\u001b[0m\u001b[0;34m\u001b[0m\u001b[0m\n",
      "\u001b[0;32m~/anaconda3/envs/py38/lib/python3.7/site-packages/pandas/core/frame.py\u001b[0m in \u001b[0;36m__init__\u001b[0;34m(self, data, index, columns, dtype, copy)\u001b[0m\n\u001b[1;32m    568\u001b[0m                     \u001b[0;32mif\u001b[0m \u001b[0mis_named_tuple\u001b[0m\u001b[0;34m(\u001b[0m\u001b[0mdata\u001b[0m\u001b[0;34m[\u001b[0m\u001b[0;36m0\u001b[0m\u001b[0;34m]\u001b[0m\u001b[0;34m)\u001b[0m \u001b[0;32mand\u001b[0m \u001b[0mcolumns\u001b[0m \u001b[0;32mis\u001b[0m \u001b[0;32mNone\u001b[0m\u001b[0;34m:\u001b[0m\u001b[0;34m\u001b[0m\u001b[0;34m\u001b[0m\u001b[0m\n\u001b[1;32m    569\u001b[0m                         \u001b[0mcolumns\u001b[0m \u001b[0;34m=\u001b[0m \u001b[0mdata\u001b[0m\u001b[0;34m[\u001b[0m\u001b[0;36m0\u001b[0m\u001b[0;34m]\u001b[0m\u001b[0;34m.\u001b[0m\u001b[0m_fields\u001b[0m\u001b[0;34m\u001b[0m\u001b[0;34m\u001b[0m\u001b[0m\n\u001b[0;32m--> 570\u001b[0;31m                     \u001b[0marrays\u001b[0m\u001b[0;34m,\u001b[0m \u001b[0mcolumns\u001b[0m \u001b[0;34m=\u001b[0m \u001b[0mto_arrays\u001b[0m\u001b[0;34m(\u001b[0m\u001b[0mdata\u001b[0m\u001b[0;34m,\u001b[0m \u001b[0mcolumns\u001b[0m\u001b[0;34m,\u001b[0m \u001b[0mdtype\u001b[0m\u001b[0;34m=\u001b[0m\u001b[0mdtype\u001b[0m\u001b[0;34m)\u001b[0m\u001b[0;34m\u001b[0m\u001b[0;34m\u001b[0m\u001b[0m\n\u001b[0m\u001b[1;32m    571\u001b[0m                     \u001b[0mcolumns\u001b[0m \u001b[0;34m=\u001b[0m \u001b[0mensure_index\u001b[0m\u001b[0;34m(\u001b[0m\u001b[0mcolumns\u001b[0m\u001b[0;34m)\u001b[0m\u001b[0;34m\u001b[0m\u001b[0;34m\u001b[0m\u001b[0m\n\u001b[1;32m    572\u001b[0m \u001b[0;34m\u001b[0m\u001b[0m\n",
      "\u001b[0;32m~/anaconda3/envs/py38/lib/python3.7/site-packages/pandas/core/internals/construction.py\u001b[0m in \u001b[0;36mto_arrays\u001b[0;34m(data, columns, coerce_float, dtype)\u001b[0m\n\u001b[1;32m    526\u001b[0m         \u001b[0;32mreturn\u001b[0m \u001b[0;34m[\u001b[0m\u001b[0;34m]\u001b[0m\u001b[0;34m,\u001b[0m \u001b[0;34m[\u001b[0m\u001b[0;34m]\u001b[0m  \u001b[0;31m# columns if columns is not None else []\u001b[0m\u001b[0;34m\u001b[0m\u001b[0;34m\u001b[0m\u001b[0m\n\u001b[1;32m    527\u001b[0m     \u001b[0;32mif\u001b[0m \u001b[0misinstance\u001b[0m\u001b[0;34m(\u001b[0m\u001b[0mdata\u001b[0m\u001b[0;34m[\u001b[0m\u001b[0;36m0\u001b[0m\u001b[0;34m]\u001b[0m\u001b[0;34m,\u001b[0m \u001b[0;34m(\u001b[0m\u001b[0mlist\u001b[0m\u001b[0;34m,\u001b[0m \u001b[0mtuple\u001b[0m\u001b[0;34m)\u001b[0m\u001b[0;34m)\u001b[0m\u001b[0;34m:\u001b[0m\u001b[0;34m\u001b[0m\u001b[0;34m\u001b[0m\u001b[0m\n\u001b[0;32m--> 528\u001b[0;31m         \u001b[0;32mreturn\u001b[0m \u001b[0m_list_to_arrays\u001b[0m\u001b[0;34m(\u001b[0m\u001b[0mdata\u001b[0m\u001b[0;34m,\u001b[0m \u001b[0mcolumns\u001b[0m\u001b[0;34m,\u001b[0m \u001b[0mcoerce_float\u001b[0m\u001b[0;34m=\u001b[0m\u001b[0mcoerce_float\u001b[0m\u001b[0;34m,\u001b[0m \u001b[0mdtype\u001b[0m\u001b[0;34m=\u001b[0m\u001b[0mdtype\u001b[0m\u001b[0;34m)\u001b[0m\u001b[0;34m\u001b[0m\u001b[0;34m\u001b[0m\u001b[0m\n\u001b[0m\u001b[1;32m    529\u001b[0m     \u001b[0;32melif\u001b[0m \u001b[0misinstance\u001b[0m\u001b[0;34m(\u001b[0m\u001b[0mdata\u001b[0m\u001b[0;34m[\u001b[0m\u001b[0;36m0\u001b[0m\u001b[0;34m]\u001b[0m\u001b[0;34m,\u001b[0m \u001b[0mabc\u001b[0m\u001b[0;34m.\u001b[0m\u001b[0mMapping\u001b[0m\u001b[0;34m)\u001b[0m\u001b[0;34m:\u001b[0m\u001b[0;34m\u001b[0m\u001b[0;34m\u001b[0m\u001b[0m\n\u001b[1;32m    530\u001b[0m         return _list_of_dict_to_arrays(\n",
      "\u001b[0;32m~/anaconda3/envs/py38/lib/python3.7/site-packages/pandas/core/internals/construction.py\u001b[0m in \u001b[0;36m_list_to_arrays\u001b[0;34m(data, columns, coerce_float, dtype)\u001b[0m\n\u001b[1;32m    569\u001b[0m         \u001b[0mresult\u001b[0m \u001b[0;34m=\u001b[0m \u001b[0m_convert_object_array\u001b[0m\u001b[0;34m(\u001b[0m\u001b[0mcontent\u001b[0m\u001b[0;34m,\u001b[0m \u001b[0mdtype\u001b[0m\u001b[0;34m=\u001b[0m\u001b[0mdtype\u001b[0m\u001b[0;34m,\u001b[0m \u001b[0mcoerce_float\u001b[0m\u001b[0;34m=\u001b[0m\u001b[0mcoerce_float\u001b[0m\u001b[0;34m)\u001b[0m\u001b[0;34m\u001b[0m\u001b[0;34m\u001b[0m\u001b[0m\n\u001b[1;32m    570\u001b[0m     \u001b[0;32mexcept\u001b[0m \u001b[0mAssertionError\u001b[0m \u001b[0;32mas\u001b[0m \u001b[0me\u001b[0m\u001b[0;34m:\u001b[0m\u001b[0;34m\u001b[0m\u001b[0;34m\u001b[0m\u001b[0m\n\u001b[0;32m--> 571\u001b[0;31m         \u001b[0;32mraise\u001b[0m \u001b[0mValueError\u001b[0m\u001b[0;34m(\u001b[0m\u001b[0me\u001b[0m\u001b[0;34m)\u001b[0m \u001b[0;32mfrom\u001b[0m \u001b[0me\u001b[0m\u001b[0;34m\u001b[0m\u001b[0;34m\u001b[0m\u001b[0m\n\u001b[0m\u001b[1;32m    572\u001b[0m     \u001b[0;32mreturn\u001b[0m \u001b[0mresult\u001b[0m\u001b[0;34m,\u001b[0m \u001b[0mcolumns\u001b[0m\u001b[0;34m\u001b[0m\u001b[0;34m\u001b[0m\u001b[0m\n\u001b[1;32m    573\u001b[0m \u001b[0;34m\u001b[0m\u001b[0m\n",
      "\u001b[0;31mValueError\u001b[0m: 12 columns passed, passed data had 3 columns"
     ]
    }
   ],
   "source": [
    "s18=funclib.split_ecdf_to_single_lines(sprot2018)\n",
    "s20=funclib.split_ecdf_to_single_lines(sprot2020)"
   ]
  },
  {
   "cell_type": "code",
   "execution_count": 20,
   "id": "f5b97a59-3f8b-4f22-9604-28e2bf8c3ce5",
   "metadata": {},
   "outputs": [
    {
     "ename": "NameError",
     "evalue": "name 's18' is not defined",
     "output_type": "error",
     "traceback": [
      "\u001b[0;31m---------------------------------------------------------------------------\u001b[0m",
      "\u001b[0;31mNameError\u001b[0m                                 Traceback (most recent call last)",
      "\u001b[0;32m/tmp/ipykernel_285437/547351022.py\u001b[0m in \u001b[0;36m<module>\u001b[0;34m\u001b[0m\n\u001b[0;32m----> 1\u001b[0;31m \u001b[0ms18\u001b[0m\u001b[0;34m\u001b[0m\u001b[0;34m\u001b[0m\u001b[0m\n\u001b[0m",
      "\u001b[0;31mNameError\u001b[0m: name 's18' is not defined"
     ]
    }
   ],
   "source": [
    "s18"
   ]
  },
  {
   "cell_type": "markdown",
   "id": "39035c66-814a-43cc-84dc-38a6cecc56fb",
   "metadata": {},
   "source": [
    "### 6.3 Split Tain Test"
   ]
  },
  {
   "cell_type": "code",
   "execution_count": 6,
   "id": "d760b165-ad48-47d7-8ac4-6defbc0a905f",
   "metadata": {},
   "outputs": [],
   "source": [
    "train = sprot2018.iloc[:,np.r_[0,2:8,10:12]]\n",
    "test = sprot2020.iloc[:,np.r_[0,2:8,10:12]]\n",
    "test =test[~test.seq.isin(train.seq)]\n",
    "test.reset_index(drop=True, inplace=True)"
   ]
  },
  {
   "cell_type": "markdown",
   "id": "2457a4e7-5b0c-4194-a595-36bbcb14a9b2",
   "metadata": {},
   "source": [
    "### 6.4 Remove changed seqence in test set"
   ]
  },
  {
   "cell_type": "code",
   "execution_count": 7,
   "id": "ec4e0303-cc25-4100-ab48-c46c0c396d42",
   "metadata": {},
   "outputs": [],
   "source": [
    "test = test[~test.id.isin(test.merge(train, on='id', how='inner').id.values)]\n",
    "test.reset_index(drop=True, inplace=True)"
   ]
  },
  {
   "cell_type": "markdown",
   "id": "5ac86e68-e449-4b64-8bc4-f415301f675b",
   "metadata": {},
   "source": [
    "### 6.4 Trim string"
   ]
  },
  {
   "cell_type": "code",
   "execution_count": 8,
   "id": "f4ede799-40d1-43f3-81be-c5fbbb70e7dc",
   "metadata": {},
   "outputs": [],
   "source": [
    "with pd.option_context('mode.chained_assignment', None):\n",
    "    train.ec_number = train.ec_number.parallel_apply(lambda x : str(x).strip()) #ec trim\n",
    "    train.seq = train.seq.parallel_apply(lambda x : str(x).strip()) #seq trim\n",
    "    \n",
    "    test.ec_number = test.ec_number.parallel_apply(lambda x : str(x).strip()) #ec trim\n",
    "    test.seq = test.seq.parallel_apply(lambda x : str(x).strip()) #seq trim"
   ]
  },
  {
   "cell_type": "code",
   "execution_count": 16,
   "id": "e342a193-3a99-41d6-a8b4-4726286c04d3",
   "metadata": {},
   "outputs": [
    {
     "data": {
      "text/html": [
       "<div>\n",
       "<style scoped>\n",
       "    .dataframe tbody tr th:only-of-type {\n",
       "        vertical-align: middle;\n",
       "    }\n",
       "\n",
       "    .dataframe tbody tr th {\n",
       "        vertical-align: top;\n",
       "    }\n",
       "\n",
       "    .dataframe thead th {\n",
       "        text-align: right;\n",
       "    }\n",
       "</style>\n",
       "<table border=\"1\" class=\"dataframe\">\n",
       "  <thead>\n",
       "    <tr style=\"text-align: right;\">\n",
       "      <th></th>\n",
       "      <th>id</th>\n",
       "      <th>isenzyme</th>\n",
       "      <th>isMultiFunctional</th>\n",
       "      <th>functionCounts</th>\n",
       "      <th>ec_number</th>\n",
       "      <th>ec_specific_level</th>\n",
       "      <th>date_integraged</th>\n",
       "      <th>seq</th>\n",
       "      <th>seqlength</th>\n",
       "    </tr>\n",
       "  </thead>\n",
       "  <tbody>\n",
       "    <tr>\n",
       "      <th>0</th>\n",
       "      <td>P69031</td>\n",
       "      <td>False</td>\n",
       "      <td>False</td>\n",
       "      <td>0</td>\n",
       "      <td>-</td>\n",
       "      <td>0</td>\n",
       "      <td>2005-02-01</td>\n",
       "      <td>MAFLKKSLFLVLFLGLVSLSICEQEKREEENQEEDEENEAASEEKR...</td>\n",
       "      <td>71</td>\n",
       "    </tr>\n",
       "    <tr>\n",
       "      <th>1</th>\n",
       "      <td>P69019</td>\n",
       "      <td>False</td>\n",
       "      <td>False</td>\n",
       "      <td>0</td>\n",
       "      <td>-</td>\n",
       "      <td>0</td>\n",
       "      <td>2005-02-01</td>\n",
       "      <td>MAFLKKSLFLVLFLGLVSLSICEKEKRQNEEDEDENEAANHEEGSE...</td>\n",
       "      <td>72</td>\n",
       "    </tr>\n",
       "    <tr>\n",
       "      <th>2</th>\n",
       "      <td>Q5RF96</td>\n",
       "      <td>True</td>\n",
       "      <td>False</td>\n",
       "      <td>1</td>\n",
       "      <td>3.4.-.-</td>\n",
       "      <td>2</td>\n",
       "      <td>2005-08-30</td>\n",
       "      <td>MARGGDTGCTGPSETSASGAVAIAFPGLEGPPADAQYQTLALTVPK...</td>\n",
       "      <td>169</td>\n",
       "    </tr>\n",
       "    <tr>\n",
       "      <th>3</th>\n",
       "      <td>Q9UM00</td>\n",
       "      <td>False</td>\n",
       "      <td>False</td>\n",
       "      <td>0</td>\n",
       "      <td>-</td>\n",
       "      <td>0</td>\n",
       "      <td>2006-06-27</td>\n",
       "      <td>MPRKRKCDLRAVRVGLLLGGGGVYGSRFRFTFPGCRALSPWRVRVQ...</td>\n",
       "      <td>239</td>\n",
       "    </tr>\n",
       "    <tr>\n",
       "      <th>4</th>\n",
       "      <td>P0C250</td>\n",
       "      <td>False</td>\n",
       "      <td>False</td>\n",
       "      <td>0</td>\n",
       "      <td>-</td>\n",
       "      <td>0</td>\n",
       "      <td>2006-11-28</td>\n",
       "      <td>MGKLTILVLVAAVLLSTQVMVQGDGDQPADRNAVRRDDNPGGTRGR...</td>\n",
       "      <td>63</td>\n",
       "    </tr>\n",
       "    <tr>\n",
       "      <th>...</th>\n",
       "      <td>...</td>\n",
       "      <td>...</td>\n",
       "      <td>...</td>\n",
       "      <td>...</td>\n",
       "      <td>...</td>\n",
       "      <td>...</td>\n",
       "      <td>...</td>\n",
       "      <td>...</td>\n",
       "      <td>...</td>\n",
       "    </tr>\n",
       "    <tr>\n",
       "      <th>7096</th>\n",
       "      <td>A0A061ACU2</td>\n",
       "      <td>False</td>\n",
       "      <td>False</td>\n",
       "      <td>0</td>\n",
       "      <td>-</td>\n",
       "      <td>0</td>\n",
       "      <td>2020-12-02</td>\n",
       "      <td>MTVPPLLKSCVVKLLLPAALLAAAIIRPSFLSIGYVLLALVSAVLP...</td>\n",
       "      <td>2442</td>\n",
       "    </tr>\n",
       "    <tr>\n",
       "      <th>7097</th>\n",
       "      <td>Q8GYS8</td>\n",
       "      <td>False</td>\n",
       "      <td>False</td>\n",
       "      <td>0</td>\n",
       "      <td>-</td>\n",
       "      <td>0</td>\n",
       "      <td>2020-12-02</td>\n",
       "      <td>MKIGVVLVLLTVFVVVMSSTSVSAQSDEDECLKETGQMQLNCFPYL...</td>\n",
       "      <td>116</td>\n",
       "    </tr>\n",
       "    <tr>\n",
       "      <th>7098</th>\n",
       "      <td>Q6NRV0</td>\n",
       "      <td>True</td>\n",
       "      <td>False</td>\n",
       "      <td>1</td>\n",
       "      <td>2.3.2.27</td>\n",
       "      <td>4</td>\n",
       "      <td>2020-12-02</td>\n",
       "      <td>MPIRAYCTICSDFFDNARDVAAITCGHTFHQECLLQWFHSAPHRTC...</td>\n",
       "      <td>464</td>\n",
       "    </tr>\n",
       "    <tr>\n",
       "      <th>7099</th>\n",
       "      <td>C5DLH0</td>\n",
       "      <td>True</td>\n",
       "      <td>True</td>\n",
       "      <td>1</td>\n",
       "      <td>3.6.1.-</td>\n",
       "      <td>3</td>\n",
       "      <td>2020-12-02</td>\n",
       "      <td>MGLSADLFVQKRSAASSLKQPKELGFYSKTQEGQFLVNDSSKLSYY...</td>\n",
       "      <td>383</td>\n",
       "    </tr>\n",
       "    <tr>\n",
       "      <th>7100</th>\n",
       "      <td>F4I082</td>\n",
       "      <td>False</td>\n",
       "      <td>False</td>\n",
       "      <td>0</td>\n",
       "      <td>-</td>\n",
       "      <td>0</td>\n",
       "      <td>2020-12-02</td>\n",
       "      <td>MEKSTRTLFITIVITSMLLGFGNSDLAQDREECTNQLIELSTCIPY...</td>\n",
       "      <td>184</td>\n",
       "    </tr>\n",
       "  </tbody>\n",
       "</table>\n",
       "<p>7101 rows × 9 columns</p>\n",
       "</div>"
      ],
      "text/plain": [
       "              id  isenzyme  isMultiFunctional  functionCounts ec_number  \\\n",
       "0         P69031     False              False               0         -   \n",
       "1         P69019     False              False               0         -   \n",
       "2         Q5RF96      True              False               1   3.4.-.-   \n",
       "3         Q9UM00     False              False               0         -   \n",
       "4         P0C250     False              False               0         -   \n",
       "...          ...       ...                ...             ...       ...   \n",
       "7096  A0A061ACU2     False              False               0         -   \n",
       "7097      Q8GYS8     False              False               0         -   \n",
       "7098      Q6NRV0      True              False               1  2.3.2.27   \n",
       "7099      C5DLH0      True               True               1   3.6.1.-   \n",
       "7100      F4I082     False              False               0         -   \n",
       "\n",
       "      ec_specific_level date_integraged  \\\n",
       "0                     0      2005-02-01   \n",
       "1                     0      2005-02-01   \n",
       "2                     2      2005-08-30   \n",
       "3                     0      2006-06-27   \n",
       "4                     0      2006-11-28   \n",
       "...                 ...             ...   \n",
       "7096                  0      2020-12-02   \n",
       "7097                  0      2020-12-02   \n",
       "7098                  4      2020-12-02   \n",
       "7099                  3      2020-12-02   \n",
       "7100                  0      2020-12-02   \n",
       "\n",
       "                                                    seq  seqlength  \n",
       "0     MAFLKKSLFLVLFLGLVSLSICEQEKREEENQEEDEENEAASEEKR...         71  \n",
       "1     MAFLKKSLFLVLFLGLVSLSICEKEKRQNEEDEDENEAANHEEGSE...         72  \n",
       "2     MARGGDTGCTGPSETSASGAVAIAFPGLEGPPADAQYQTLALTVPK...        169  \n",
       "3     MPRKRKCDLRAVRVGLLLGGGGVYGSRFRFTFPGCRALSPWRVRVQ...        239  \n",
       "4     MGKLTILVLVAAVLLSTQVMVQGDGDQPADRNAVRRDDNPGGTRGR...         63  \n",
       "...                                                 ...        ...  \n",
       "7096  MTVPPLLKSCVVKLLLPAALLAAAIIRPSFLSIGYVLLALVSAVLP...       2442  \n",
       "7097  MKIGVVLVLLTVFVVVMSSTSVSAQSDEDECLKETGQMQLNCFPYL...        116  \n",
       "7098  MPIRAYCTICSDFFDNARDVAAITCGHTFHQECLLQWFHSAPHRTC...        464  \n",
       "7099  MGLSADLFVQKRSAASSLKQPKELGFYSKTQEGQFLVNDSSKLSYY...        383  \n",
       "7100  MEKSTRTLFITIVITSMLLGFGNSDLAQDREECTNQLIELSTCIPY...        184  \n",
       "\n",
       "[7101 rows x 9 columns]"
      ]
     },
     "execution_count": 16,
     "metadata": {},
     "output_type": "execute_result"
    }
   ],
   "source": [
    "test"
   ]
  },
  {
   "cell_type": "markdown",
   "id": "a6bfd483-8e73-4981-a10c-f28cb3b4a2da",
   "metadata": {},
   "source": [
    "### 6.5 Save train test"
   ]
  },
  {
   "cell_type": "code",
   "execution_count": 14,
   "id": "450d4a30-e4b2-4743-94c3-518eda3833af",
   "metadata": {},
   "outputs": [],
   "source": [
    "train.to_feather(cfg.DATADIR + 'train.feature')\n",
    "test.to_feather(cfg.DATADIR + 'test.feature')"
   ]
  },
  {
   "cell_type": "markdown",
   "id": "b308e065-d78e-4c12-9240-a37defcc1ed3",
   "metadata": {},
   "source": [
    "### 6.6 ESM embedding "
   ]
  },
  {
   "cell_type": "code",
   "execution_count": 11,
   "id": "80a11a0a-7b83-4c7f-a2b8-ede6953cdae9",
   "metadata": {},
   "outputs": [
    {
     "name": "stdout",
     "output_type": "stream",
     "text": [
      "Transferred model to GPU\n"
     ]
    },
    {
     "name": "stderr",
     "output_type": "stream",
     "text": [
      "100%|███████████████████████████████████████████████████████████████████████████████████████████████████| 469134/469134 [4:46:05<00:00, 27.33it/s]\n"
     ]
    }
   ],
   "source": [
    "# !pip install fair-esm\n",
    "tr_rep0, tr_rep32, tr_rep33 = esmebd.get_rep_multi_sequence(sequences=train, model='esm1b_t33_650M_UR50S',seqthres=1022)\n",
    "tr_rep0.to_feather(cfg.DATADIR + 'train_rep0.feather')\n",
    "tr_rep32.to_feather(cfg.DATADIR + 'train_rep32.feather')\n",
    "tr_rep33.to_feather(cfg.DATADIR + 'train_rep33.feather')\n",
    "\n",
    "tst_rep0, tst_rep32, tst_rep33 = esmebd.get_rep_multi_sequence(sequences=test, model='esm1b_t33_650M_UR50S',seqthres=1022)\n",
    "tst_rep0.to_feather(cfg.DATADIR + 'test_rep0.feather')\n",
    "tst_rep32.to_feather(cfg.DATADIR + 'test_rep32.feather')\n",
    "tst_rep33.to_feather(cfg.DATADIR + 'test_rep33.feather')\n"
   ]
  },
  {
   "cell_type": "markdown",
   "id": "ba25666b-7ec0-489f-bac4-a56cd03ff730",
   "metadata": {},
   "source": [
    "### 6.7 Unirep embedding"
   ]
  },
  {
   "cell_type": "code",
   "execution_count": null,
   "id": "f933a86a-d52e-49a7-931e-02bfadfd6dae",
   "metadata": {},
   "outputs": [],
   "source": [
    "tr_unirep = unirep.getunirep(train, 20)\n",
    "tst_unirep = unirep.getunirep(test, 20)\n",
    "\n",
    "tr_unirep.to_feather(cfg.DATADIR + 'train_unirep.feather')\n",
    "tst_unirep.to_feather(cfg.DATADIR + 'test_unirep.feather')\n"
   ]
  },
  {
   "cell_type": "markdown",
   "id": "cc38ac17-51d7-4025-8d79-88e972e45f91",
   "metadata": {},
   "source": [
    "## 7. Build benchmarking datasets\n",
    "### 7.1 Task 1 isEnzyme"
   ]
  },
  {
   "cell_type": "code",
   "execution_count": 15,
   "id": "a84e607d-6882-4a78-95f4-f58327a7bcea",
   "metadata": {},
   "outputs": [],
   "source": [
    "task1_train = train.iloc[:,np.r_[0,7,1]]\n",
    "task1_test = test.iloc[:,np.r_[0,7,1]]\n",
    "\n",
    "task1_train.to_feather(cfg.DATADIR + 'task1/train.feather')\n",
    "task1_test.to_feather(cfg.DATADIR + 'task1/test.feather')"
   ]
  },
  {
   "cell_type": "markdown",
   "id": "57df6c39-3f5b-4253-9578-1a206439b05e",
   "metadata": {},
   "source": [
    "### 7.2 Task2 Function Counts"
   ]
  },
  {
   "cell_type": "code",
   "execution_count": 16,
   "id": "d7a4222b-0bc4-47a5-9434-85b9249c0436",
   "metadata": {},
   "outputs": [],
   "source": [
    "task2_train = train[train.functionCounts >0]\n",
    "task2_train.reset_index(drop=True, inplace=True)\n",
    "task2_train = task2_train.iloc[:,np.r_[0,7,3]]\n",
    "\n",
    "task2_test = test[test.functionCounts >0]\n",
    "task2_test.reset_index(drop=True, inplace=True)\n",
    "task2_test = task2_test.iloc[:,np.r_[0,7,3]]\n",
    "\n",
    "task2_train.to_feather(cfg.DATADIR + 'task2/train.feather')\n",
    "task2_test.to_feather(cfg.DATADIR + 'task2/test.feather')\n"
   ]
  },
  {
   "cell_type": "markdown",
   "id": "6b2bd772-ccb4-412f-88df-8028cb94a1f8",
   "metadata": {},
   "source": [
    "### 7.3 Task3 EC Number"
   ]
  },
  {
   "cell_type": "code",
   "execution_count": 13,
   "id": "795f1d55-bc3f-43eb-adba-fd07d98373cf",
   "metadata": {},
   "outputs": [],
   "source": [
    "task3_train = train[train.functionCounts >0]\n",
    "task3_train.reset_index(drop=True, inplace=True)\n",
    "task3_train = task3_train.iloc[:,np.r_[0,7,4]]\n",
    "\n",
    "task3_test = test[test.functionCounts >0]\n",
    "task3_test.reset_index(drop=True, inplace=True)\n",
    "task3_test = task3_test.iloc[:,np.r_[0,7,4]]\n",
    "\n",
    "task3_train.to_feather(cfg.DATADIR + 'task3/train.feather')\n",
    "task3_test.to_feather(cfg.DATADIR + 'task3/test.feather')\n"
   ]
  },
  {
   "cell_type": "code",
   "execution_count": null,
   "id": "2c52f157-8447-4a53-a4e1-e1a076e39119",
   "metadata": {},
   "outputs": [],
   "source": []
  }
 ],
 "metadata": {
  "kernelspec": {
   "display_name": "py38",
   "language": "python",
   "name": "py38"
  },
  "language_info": {
   "codemirror_mode": {
    "name": "ipython",
    "version": 3
   },
   "file_extension": ".py",
   "mimetype": "text/x-python",
   "name": "python",
   "nbconvert_exporter": "python",
   "pygments_lexer": "ipython3",
   "version": "3.7.10"
  },
  "toc-autonumbering": false,
  "toc-showmarkdowntxt": false,
  "toc-showtags": false,
  "widgets": {
   "application/vnd.jupyter.widget-state+json": {
    "state": {},
    "version_major": 2,
    "version_minor": 0
   }
  }
 },
 "nbformat": 4,
 "nbformat_minor": 5
}
